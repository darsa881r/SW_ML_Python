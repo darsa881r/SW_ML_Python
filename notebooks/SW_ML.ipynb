{
 "metadata": {
  "language_info": {
   "codemirror_mode": {
    "name": "ipython",
    "version": 3
   },
   "file_extension": ".py",
   "mimetype": "text/x-python",
   "name": "python",
   "nbconvert_exporter": "python",
   "pygments_lexer": "ipython3",
   "version": "3.7.7-final"
  },
  "orig_nbformat": 2,
  "kernelspec": {
   "name": "python_defaultSpec_1598301172872",
   "display_name": "Python 3.7.7 64-bit ('base': conda)"
  }
 },
 "nbformat": 4,
 "nbformat_minor": 2,
 "cells": [
  {
   "cell_type": "markdown",
   "metadata": {},
   "source": [
    "# Machine Learning in Selective Withdrawal\n",
    "\n",
    "All features in SI units"
   ]
  },
  {
   "cell_type": "code",
   "execution_count": 4,
   "metadata": {
    "tags": []
   },
   "outputs": [
    {
     "output_type": "stream",
     "name": "stdout",
     "text": "\n Files in the folders are: \n\nC:\\Users\\sabbi\\Dropbox\\Darryl James\\Mendeley_library\\JetEntrainment\\Selective\\Machine Learning\\SW_ML_git\\inputs\\total_data_SW.csv\n\n\n"
    }
   ],
   "source": [
    "import myload01 as ml01\n",
    "\n",
    "folder_path = 'C:\\\\Users\\\\sabbi\\\\Dropbox\\\\Darryl James\\\\Mendeley_library\\\\JetEntrainment\\\\Selective\\\\Machine Learning\\\\SW_ML_git\\\\inputs'\n",
    "ml01.disp_files_folder(folder_path)"
   ]
  },
  {
   "cell_type": "code",
   "execution_count": 5,
   "metadata": {},
   "outputs": [
    {
     "output_type": "execute_result",
     "data": {
      "text/plain": "   rhoU    viscU  rhoL     viscL  Gamma         D        lc         Q  \\\n0   918  0.00499   998  0.000927   0.03  0.010795  0.006183  0.000192   \n1   918  0.00499   998  0.000927   0.03  0.010795  0.006183  0.000194   \n2   918  0.00499   998  0.000927   0.03  0.010795  0.006183  0.000224   \n3   918  0.00499   998  0.000927   0.03  0.010795  0.006183  0.000225   \n4   918  0.00499   998  0.000927   0.03  0.010795  0.006183  0.000256   \n\n          S  Pri  Sec  Cohen  \n0  0.008788    1    0      0  \n1  0.009169    1    0      0  \n2  0.010109    1    0      0  \n3  0.010414    1    0      0  \n4  0.010922    1    0      0  ",
      "text/html": "<div>\n<style scoped>\n    .dataframe tbody tr th:only-of-type {\n        vertical-align: middle;\n    }\n\n    .dataframe tbody tr th {\n        vertical-align: top;\n    }\n\n    .dataframe thead th {\n        text-align: right;\n    }\n</style>\n<table border=\"1\" class=\"dataframe\">\n  <thead>\n    <tr style=\"text-align: right;\">\n      <th></th>\n      <th>rhoU</th>\n      <th>viscU</th>\n      <th>rhoL</th>\n      <th>viscL</th>\n      <th>Gamma</th>\n      <th>D</th>\n      <th>lc</th>\n      <th>Q</th>\n      <th>S</th>\n      <th>Pri</th>\n      <th>Sec</th>\n      <th>Cohen</th>\n    </tr>\n  </thead>\n  <tbody>\n    <tr>\n      <th>0</th>\n      <td>918</td>\n      <td>0.00499</td>\n      <td>998</td>\n      <td>0.000927</td>\n      <td>0.03</td>\n      <td>0.010795</td>\n      <td>0.006183</td>\n      <td>0.000192</td>\n      <td>0.008788</td>\n      <td>1</td>\n      <td>0</td>\n      <td>0</td>\n    </tr>\n    <tr>\n      <th>1</th>\n      <td>918</td>\n      <td>0.00499</td>\n      <td>998</td>\n      <td>0.000927</td>\n      <td>0.03</td>\n      <td>0.010795</td>\n      <td>0.006183</td>\n      <td>0.000194</td>\n      <td>0.009169</td>\n      <td>1</td>\n      <td>0</td>\n      <td>0</td>\n    </tr>\n    <tr>\n      <th>2</th>\n      <td>918</td>\n      <td>0.00499</td>\n      <td>998</td>\n      <td>0.000927</td>\n      <td>0.03</td>\n      <td>0.010795</td>\n      <td>0.006183</td>\n      <td>0.000224</td>\n      <td>0.010109</td>\n      <td>1</td>\n      <td>0</td>\n      <td>0</td>\n    </tr>\n    <tr>\n      <th>3</th>\n      <td>918</td>\n      <td>0.00499</td>\n      <td>998</td>\n      <td>0.000927</td>\n      <td>0.03</td>\n      <td>0.010795</td>\n      <td>0.006183</td>\n      <td>0.000225</td>\n      <td>0.010414</td>\n      <td>1</td>\n      <td>0</td>\n      <td>0</td>\n    </tr>\n    <tr>\n      <th>4</th>\n      <td>918</td>\n      <td>0.00499</td>\n      <td>998</td>\n      <td>0.000927</td>\n      <td>0.03</td>\n      <td>0.010795</td>\n      <td>0.006183</td>\n      <td>0.000256</td>\n      <td>0.010922</td>\n      <td>1</td>\n      <td>0</td>\n      <td>0</td>\n    </tr>\n  </tbody>\n</table>\n</div>"
     },
     "metadata": {},
     "execution_count": 5
    }
   ],
   "source": [
    "file_name = 'C:\\\\Users\\\\sabbi\\\\Dropbox\\\\Darryl James\\\\Mendeley_library\\\\JetEntrainment\\\\Selective\\\\Machine Learning\\\\SW_ML_git\\\\inputs\\\\total_data_SW.csv' \n",
    "total_data = ml01.load_csv(file_name)\n",
    "\n",
    "\n",
    "total_data.head(5)"
   ]
  },
  {
   "cell_type": "code",
   "execution_count": null,
   "metadata": {},
   "outputs": [],
   "source": []
  }
 ]
}